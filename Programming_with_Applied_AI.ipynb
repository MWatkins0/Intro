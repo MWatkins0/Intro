{
  "cells": [
    {
      "cell_type": "markdown",
      "metadata": {
        "id": "sKW4ootVJl9R"
      },
      "source": [
        "**Programming with Applied AI**\n",
        "\n",
        "Start by adding the easyocr services to our virtual environment"
      ]
    },
    {
      "cell_type": "code",
      "execution_count": null,
      "metadata": {
        "id": "3wa-Or1sULNc"
      },
      "outputs": [],
      "source": [
        "# easyocr is a low dependency, highly efficient computer vision aligned module\n",
        "# able to handle a wide variety of character types, fonts etc\n",
        "!pip install easyocr # 'preferred installer program', add easyocr module to our environment"
      ]
    },
    {
      "cell_type": "markdown",
      "metadata": {
        "id": "yfq3BwLSf-Uq"
      },
      "source": [
        "<br>\n",
        "Add the required libraries to our OCR program"
      ]
    },
    {
      "cell_type": "code",
      "execution_count": null,
      "metadata": {
        "id": "T2GzQf4aUenN"
      },
      "outputs": [],
      "source": [
        "import easyocr # add the ocr module to the project\n",
        "\n",
        "import matplotlib.pyplot as plt # visualisation library\n",
        "import matplotlib.patches as patches # extends library to include image overlays\n",
        "\n",
        "from PIL import Image # add 'python imaging lib' to our project\n",
        "import numpy as np # add support for multi-dimension arrays/matrices\n",
        "\n",
        "import pprint # “pretty-print” Python data structures\n",
        "pp = pprint.PrettyPrinter(indent=4) # set a default"
      ]
    },
    {
      "cell_type": "code",
      "execution_count": null,
      "metadata": {
        "id": "WtrwkgcVauDI"
      },
      "outputs": [],
      "source": [
        "# create a simple function to calculate coordinated\n",
        "def extract_boundary(textbox):\n",
        "  TOPLEFT = 0 # set constants for each textbox boundary\n",
        "  TOPRIGHT = 1\n",
        "  BOTTOMRIGHT = 2\n",
        "  BOTTOMLEFT = 3\n",
        "\n",
        "  x, y = textbox[BOTTOMLEFT] # calculate coords\n",
        "  x1, y1 = textbox[TOPRIGHT]\n",
        "\n",
        "  w = x1 - x # calculate width & height\n",
        "  h = y1 - y\n",
        "\n",
        "  return x, y, w, h"
      ]
    },
    {
      "cell_type": "markdown",
      "metadata": {
        "id": "yvFCdEa2Q0nw"
      },
      "source": [
        "\n",
        "<br>To make things a ltlle easier, lets initialise a manual file upload"
      ]
    },
    {
      "cell_type": "code",
      "execution_count": null,
      "metadata": {
        "colab": {
          "base_uri": "https://localhost:8080/",
          "height": 74
        },
        "id": "b64eSTv3aRRN",
        "outputId": "0e7e6ea7-aeec-4a52-bf63-54d4bdfcaaf5"
      },
      "outputs": [],
      "source": [
        "from google.colab import files # add support to upload files\n",
        "uploaded = files.upload() # initialise a manual file upload"
      ]
    },
    {
      "attachments": {},
      "cell_type": "markdown",
      "metadata": {
        "id": "RYPKFRGqf6Ou"
      },
      "source": [
        "<br>Iterate the through the file (or file in our case); the benefit of this approach is you don't need to remember the name (or location) where the file was uploaded"
      ]
    },
    {
      "cell_type": "code",
      "execution_count": null,
      "metadata": {
        "colab": {
          "base_uri": "https://localhost:8080/",
          "height": 462
        },
        "id": "mJ16d4e7W1MS",
        "outputId": "6378c068-52b0-432e-a40c-c802196a06f8"
      },
      "outputs": [],
      "source": [
        "for file in uploaded.keys():\n",
        "\n",
        "    image = Image.open(file) # use the PIL module to load the specified file\n",
        "    fig, ax = plt.subplots() # create a figure and axis; essentially controls plots\n",
        "    #ax.imshow(image) # render image\n",
        "\n",
        "    reader = easyocr.Reader(['en'], gpu = True) # initialise model for english (en) and gpu's\n",
        "    result = reader.readtext(file) # process the (uploaded) file using the AI reader and store the results\n",
        "\n",
        "    # repeat for each text string found\n",
        "    for text in result:\n",
        "      x, y, w, h = extract_boundary(text[0]) # use the text coordinates to calculate the boundary box\n",
        "\n",
        "      # update the image to demonstrate the found text strings\n",
        "      colour = (np.random.random(), np.random.random(), np.random.random())\n",
        "      boundary = patches.Rectangle( (x, y), w, h, linewidth = 1, edgecolor = colour, facecolor = 'none')\n",
        "      ax.add_patch(boundary)\n",
        "\n",
        "    # show a preview of the image\n",
        "    ax.imshow(image) # render image\n",
        "    plt.axis(\"off\")\n",
        "    plt.show()"
      ]
    },
    {
      "cell_type": "code",
      "execution_count": null,
      "metadata": {
        "colab": {
          "base_uri": "https://localhost:8080/"
        },
        "id": "ElX-4rkBW-IZ",
        "outputId": "8a9295e5-a34f-409f-d8f5-8e9ba8b90e00"
      },
      "outputs": [],
      "source": [
        "# outout the found data\n",
        "print(\"\\n\\nRaw Results\")\n",
        "pp.pprint(result)\n"
      ]
    },
    {
      "cell_type": "markdown",
      "metadata": {
        "id": "SgqGTBD0dVjl"
      },
      "source": [
        "<br>Lets review what was recognised\n"
      ]
    },
    {
      "cell_type": "code",
      "execution_count": null,
      "metadata": {
        "colab": {
          "base_uri": "https://localhost:8080/"
        },
        "id": "WhMOpTikarXi",
        "outputId": "2b656e34-e2c3-41ec-f43f-0607dea05404"
      },
      "outputs": [],
      "source": [
        "for text in result:\n",
        "  print(\"\\nCoordinates: \", text[0])\n",
        "  print(\"Recognised Characters: \", text[1])\n",
        "  print(\"Confidence %: \", text[2])\n",
        "\n",
        "print()"
      ]
    },
    {
      "cell_type": "markdown",
      "metadata": {
        "id": "_vjZkwy6dLhJ"
      },
      "source": [
        "<br>Lets filter the strings based on the percentage confidence"
      ]
    },
    {
      "cell_type": "code",
      "execution_count": null,
      "metadata": {
        "colab": {
          "base_uri": "https://localhost:8080/"
        },
        "id": "3aWtlVNEb0uC",
        "outputId": "96f8dfc0-384c-4980-b915-dbfbb50d761f"
      },
      "outputs": [],
      "source": [
        "for text in result: # as before, iterate through the results\n",
        "  if text[2] > 0.9: # only 'print' strings with at least a 90% confidence\n",
        "    print(\"Recognised Characters: \", text[1], end='')\n",
        "    print(\", \", f\"{text[2]:.2%}\")\n"
      ]
    }
  ],
  "metadata": {
    "accelerator": "GPU",
    "colab": {
      "gpuType": "T4",
      "provenance": []
    },
    "kernelspec": {
      "display_name": "Python 3",
      "name": "python3"
    },
    "language_info": {
      "name": "python"
    }
  },
  "nbformat": 4,
  "nbformat_minor": 0
}
